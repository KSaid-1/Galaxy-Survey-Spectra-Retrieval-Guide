{
 "cells": [
  {
   "cell_type": "code",
   "execution_count": 2,
   "id": "35c19538",
   "metadata": {},
   "outputs": [],
   "source": [
    "import numpy as np\n",
    "import matplotlib.pyplot as plt\n",
    "import pandas as pd\n",
    "import os"
   ]
  },
  {
   "cell_type": "markdown",
   "id": "d6c4b422",
   "metadata": {},
   "source": [
    "SDSS\n",
    "-------\n",
    "To obtain spectra from SDSS, you will need the parameters 'plate', 'mjd', and 'fiberid'. \n",
    "You can retrieve these parameters via an SQL query from CasJobs. If you only have the \n",
    "Right Ascension (RA) and Declination (DEC) coordinates, you can use the SDSS cross-identification \n",
    "tool available at https://skyserver.sdss.org/dr14/en/tools/crossid/crossid.aspx.\n",
    "\n",
    "Once you have obtained the necessary parameters, you have two options for accessing the spectra:\n",
    "\n",
    "1. Using the SDSS Science Archive Server (SAS) at https://dr14.sdss.org/optical/spectrum/search to \n",
    "   generate links to the spectra. You can save these links in a file and use 'wget' to download \n",
    "   them all at once.\n",
    "\n",
    "2. Alternatively, you can create the links manually using the information retrieved in the previous step. Please note that this step apply to SDSS spectra. For BOSS spectra, the format of the URL is slightly different."
   ]
  },
  {
   "cell_type": "code",
   "execution_count": 20,
   "id": "595613e1",
   "metadata": {},
   "outputs": [],
   "source": [
    "sdss_data = pd.read_csv(\"example.csv\")"
   ]
  },
  {
   "cell_type": "code",
   "execution_count": 5,
   "id": "920d3369",
   "metadata": {},
   "outputs": [],
   "source": [
    "objid = sdss_data[\"objid\"]; plate = sdss_data[\"plate\"]; mjd = sdss_data[\"mjd\"]; fiberid = sdss_data[\"fiberid\"]"
   ]
  },
  {
   "cell_type": "code",
   "execution_count": 22,
   "id": "e9f396be",
   "metadata": {},
   "outputs": [],
   "source": [
    "for i in range(0,3):\n",
    "    #If you need to change the name of each file\n",
    "    #os.system(\"wget -q -P . -O \"+\"./fits_files/\"+str(objid[i])+\".fits https://data.sdss.org/sas/dr14/sdss/spectro/redux/26/spectra/lite/\"+str(plate[i]).zfill(4)+\"/spec-\"+str(plate[i]).zfill(4)+\"-\"+str(mjd[i])+\"-\"+str(fiberid[i]).zfill(4)+\".fits\")\n",
    "    #If you want to keep the same name\n",
    "    os.system(\"wget -q -P ./fits_files/ https://data.sdss.org/sas/dr14/sdss/spectro/redux/26/spectra/lite/\"+str(plate[i]).zfill(4)+\"/spec-\"+str(plate[i]).zfill(4)+\"-\"+str(mjd[i])+\"-\"+str(fiberid[i]).zfill(4)+\".fits\")"
   ]
  },
  {
   "cell_type": "code",
   "execution_count": null,
   "id": "c44512f7",
   "metadata": {},
   "outputs": [],
   "source": []
  }
 ],
 "metadata": {
  "kernelspec": {
   "display_name": "Python 3 (ipykernel)",
   "language": "python",
   "name": "python3"
  },
  "language_info": {
   "codemirror_mode": {
    "name": "ipython",
    "version": 3
   },
   "file_extension": ".py",
   "mimetype": "text/x-python",
   "name": "python",
   "nbconvert_exporter": "python",
   "pygments_lexer": "ipython3",
   "version": "3.8.18"
  }
 },
 "nbformat": 4,
 "nbformat_minor": 5
}
